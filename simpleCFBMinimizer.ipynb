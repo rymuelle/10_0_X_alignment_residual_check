{
  "nbformat": 4,
  "nbformat_minor": 0,
  "metadata": {
    "colab": {
      "name": "simpleCFBMinimizer.ipynb",
      "provenance": [],
      "collapsed_sections": [],
      "authorship_tag": "ABX9TyOr55lL0dTmrpG4C6kFXkgk",
      "include_colab_link": true
    },
    "kernelspec": {
      "name": "python3",
      "display_name": "Python 3"
    },
    "accelerator": "GPU"
  },
  "cells": [
    {
      "cell_type": "markdown",
      "metadata": {
        "id": "view-in-github",
        "colab_type": "text"
      },
      "source": [
        "<a href=\"https://colab.research.google.com/github/rymuelle/10_0_X_alignment_residual_check/blob/master/simpleCFBMinimizer.ipynb\" target=\"_parent\"><img src=\"https://colab.research.google.com/assets/colab-badge.svg\" alt=\"Open In Colab\"/></a>"
      ]
    },
    {
      "cell_type": "code",
      "metadata": {
        "id": "OOQdMGvLVrMa",
        "colab_type": "code",
        "colab": {}
      },
      "source": [
        "import numpy as np\n",
        "import torch\n",
        "import pandas as pd\n",
        "from google.colab import files, drive\n",
        "import os\n",
        "import math"
      ],
      "execution_count": 0,
      "outputs": []
    },
    {
      "cell_type": "code",
      "metadata": {
        "id": "wQ2c6CAQaTQb",
        "colab_type": "code",
        "colab": {}
      },
      "source": [
        "dtype = torch.float\n",
        "device = torch.device(\"cpu\")\n",
        "device = torch.device(\"cuda:0\")"
      ],
      "execution_count": 0,
      "outputs": []
    },
    {
      "cell_type": "markdown",
      "metadata": {
        "id": "vt9T2AZzWLaK",
        "colab_type": "text"
      },
      "source": [
        "Mount drive and get our game CSV:"
      ]
    },
    {
      "cell_type": "code",
      "metadata": {
        "id": "UUOl38ynVzB-",
        "colab_type": "code",
        "colab": {
          "base_uri": "https://localhost:8080/",
          "height": 122
        },
        "outputId": "71c2800f-0de4-4358-eaad-a4ae8f284cce"
      },
      "source": [
        "drive.mount('/content/drive')"
      ],
      "execution_count": 4,
      "outputs": [
        {
          "output_type": "stream",
          "text": [
            "Go to this URL in a browser: https://accounts.google.com/o/oauth2/auth?client_id=947318989803-6bn6qk8qdgf4n4g3pfee6491hc0brc4i.apps.googleusercontent.com&redirect_uri=urn%3aietf%3awg%3aoauth%3a2.0%3aoob&response_type=code&scope=email%20https%3a%2f%2fwww.googleapis.com%2fauth%2fdocs.test%20https%3a%2f%2fwww.googleapis.com%2fauth%2fdrive%20https%3a%2f%2fwww.googleapis.com%2fauth%2fdrive.photos.readonly%20https%3a%2f%2fwww.googleapis.com%2fauth%2fpeopleapi.readonly\n",
            "\n",
            "Enter your authorization code:\n",
            "··········\n",
            "Mounted at /content/drive\n"
          ],
          "name": "stdout"
        }
      ]
    },
    {
      "cell_type": "code",
      "metadata": {
        "id": "YAC_Xwv9VXTB",
        "colab_type": "code",
        "colab": {
          "base_uri": "https://localhost:8080/",
          "height": 204
        },
        "outputId": "91a95f4e-ad06-44fc-bb7c-c9ba742bc705"
      },
      "source": [
        "game_history=pd.read_csv('/content/drive/My Drive/Colab Notebooks/CFB_pytorch_toy_minimizer/game_history.csv')\n",
        "game_history_2019=game_history[game_history.season.fillna(0).astype(int)==2019]\n",
        "game_history_2019.head()"
      ],
      "execution_count": 5,
      "outputs": [
        {
          "output_type": "execute_result",
          "data": {
            "text/html": [
              "<div>\n",
              "<style scoped>\n",
              "    .dataframe tbody tr th:only-of-type {\n",
              "        vertical-align: middle;\n",
              "    }\n",
              "\n",
              "    .dataframe tbody tr th {\n",
              "        vertical-align: top;\n",
              "    }\n",
              "\n",
              "    .dataframe thead th {\n",
              "        text-align: right;\n",
              "    }\n",
              "</style>\n",
              "<table border=\"1\" class=\"dataframe\">\n",
              "  <thead>\n",
              "    <tr style=\"text-align: right;\">\n",
              "      <th></th>\n",
              "      <th>team1</th>\n",
              "      <th>team2</th>\n",
              "      <th>team1Home</th>\n",
              "      <th>score1</th>\n",
              "      <th>score2</th>\n",
              "      <th>ordinal_date</th>\n",
              "      <th>season</th>\n",
              "    </tr>\n",
              "  </thead>\n",
              "  <tbody>\n",
              "    <tr>\n",
              "      <th>98528</th>\n",
              "      <td>St Mary's NS</td>\n",
              "      <td>St Fran Xavier</td>\n",
              "      <td>-1</td>\n",
              "      <td>39</td>\n",
              "      <td>7.0</td>\n",
              "      <td>737288.0</td>\n",
              "      <td>2019.0</td>\n",
              "    </tr>\n",
              "    <tr>\n",
              "      <th>98529</th>\n",
              "      <td>Acadia</td>\n",
              "      <td>Mt Allison</td>\n",
              "      <td>-1</td>\n",
              "      <td>13</td>\n",
              "      <td>29.0</td>\n",
              "      <td>737288.0</td>\n",
              "      <td>2019.0</td>\n",
              "    </tr>\n",
              "    <tr>\n",
              "      <th>98530</th>\n",
              "      <td>Manitoba</td>\n",
              "      <td>Regina</td>\n",
              "      <td>-1</td>\n",
              "      <td>12</td>\n",
              "      <td>9.0</td>\n",
              "      <td>737292.0</td>\n",
              "      <td>2019.0</td>\n",
              "    </tr>\n",
              "    <tr>\n",
              "      <th>98531</th>\n",
              "      <td>Coffeyville CC</td>\n",
              "      <td>Iowa Western CC</td>\n",
              "      <td>-1</td>\n",
              "      <td>14</td>\n",
              "      <td>36.0</td>\n",
              "      <td>737293.0</td>\n",
              "      <td>2019.0</td>\n",
              "    </tr>\n",
              "    <tr>\n",
              "      <th>98532</th>\n",
              "      <td>Hutchinson CC</td>\n",
              "      <td>Ellsworth CC</td>\n",
              "      <td>-1</td>\n",
              "      <td>41</td>\n",
              "      <td>16.0</td>\n",
              "      <td>737293.0</td>\n",
              "      <td>2019.0</td>\n",
              "    </tr>\n",
              "  </tbody>\n",
              "</table>\n",
              "</div>"
            ],
            "text/plain": [
              "                team1            team2  team1Home  ...  score2  ordinal_date  season\n",
              "98528    St Mary's NS   St Fran Xavier         -1  ...     7.0      737288.0  2019.0\n",
              "98529          Acadia       Mt Allison         -1  ...    29.0      737288.0  2019.0\n",
              "98530        Manitoba           Regina         -1  ...     9.0      737292.0  2019.0\n",
              "98531  Coffeyville CC  Iowa Western CC         -1  ...    36.0      737293.0  2019.0\n",
              "98532   Hutchinson CC     Ellsworth CC         -1  ...    16.0      737293.0  2019.0\n",
              "\n",
              "[5 rows x 7 columns]"
            ]
          },
          "metadata": {
            "tags": []
          },
          "execution_count": 5
        }
      ]
    },
    {
      "cell_type": "markdown",
      "metadata": {
        "id": "FxKG1bxLZhpI",
        "colab_type": "text"
      },
      "source": [
        "Now, build list and dict of teams. Dict converts between index and name, list stores team power"
      ]
    },
    {
      "cell_type": "code",
      "metadata": {
        "id": "WEAHCoe-W3qU",
        "colab_type": "code",
        "colab": {}
      },
      "source": [
        "team_list=pd.concat([game_history_2019.team1,game_history_2019.team2]).unique()\n",
        "team_list=np.append(team_list,'home_field')\n",
        "team_dict={team:count for count,team in enumerate(team_list)}"
      ],
      "execution_count": 0,
      "outputs": []
    },
    {
      "cell_type": "code",
      "metadata": {
        "id": "wWnqUrHpXfCt",
        "colab_type": "code",
        "colab": {}
      },
      "source": [
        "count=0\n",
        "lengthX=len(team_list)\n",
        "game_array=[]\n",
        "spread_array=[]\n",
        "for index, row in game_history_2019.iterrows():\n",
        "  game=np.zeros(lengthX)\n",
        "  game[team_dict[row.team1]]=1\n",
        "  game[team_dict[row.team2]]=-1\n",
        "  game[lengthX-1]=row.team1Home\n",
        "  spread = row.score1-row.score2\n",
        "  if not math.isnan(spread): \n",
        "    game_array.append(game)\n",
        "    spread_array.append(row.score1-row.score2)\n",
        "  else:\n",
        "    print(spread)\n",
        "  #if count > 1000: break\n",
        "  count+=1"
      ],
      "execution_count": 0,
      "outputs": []
    },
    {
      "cell_type": "markdown",
      "metadata": {
        "id": "zBKHKC61k73E",
        "colab_type": "text"
      },
      "source": [
        "Our \"network\" is litterally one node. Team1 power - Team2 power + homefield advantage = predicted score.\n",
        "\n",
        "Weights here will reflect team power and home field advantage."
      ]
    },
    {
      "cell_type": "code",
      "metadata": {
        "id": "Js4yOOuziRdw",
        "colab_type": "code",
        "colab": {
          "base_uri": "https://localhost:8080/",
          "height": 68
        },
        "outputId": "ed721b26-32c0-4e64-cd30-46bf1c2f0962"
      },
      "source": [
        "team_power=torch.zeros(len(team_list),1, device=device, dtype=dtype)\n",
        "x=torch.tensor(game_array, device=device, dtype=dtype)\n",
        "y=torch.tensor(spread_array, device=device, dtype=dtype).unsqueeze(1)\n",
        "print(x.shape)\n",
        "print(team_power.shape)\n",
        "print(y.shape)"
      ],
      "execution_count": 8,
      "outputs": [
        {
          "output_type": "stream",
          "text": [
            "torch.Size([5105, 928])\n",
            "torch.Size([928, 1])\n",
            "torch.Size([5105, 1])\n"
          ],
          "name": "stdout"
        }
      ]
    },
    {
      "cell_type": "markdown",
      "metadata": {
        "id": "PxWsNY20la6Q",
        "colab_type": "text"
      },
      "source": [
        "Now, lets optimize team's power:"
      ]
    },
    {
      "cell_type": "code",
      "metadata": {
        "id": "6EAI0jr_lZaW",
        "colab_type": "code",
        "colab": {
          "base_uri": "https://localhost:8080/",
          "height": 187
        },
        "outputId": "8f173c21-80e8-4d6e-b162-bd9b99fa638c"
      },
      "source": [
        "learning_rate = 1e-4\n",
        "for t in range(100000):\n",
        "  pred_spread=x.mm(team_power)\n",
        "  loss=math.sqrt((pred_spread-y).pow(2).mean())\n",
        "  grad_y_pred=2*(pred_spread-y)\n",
        "  grad_team_power=x.t().mm(grad_y_pred)\n",
        "  team_power-=learning_rate*grad_team_power\n",
        "  if t%10000==0:print(t,loss)"
      ],
      "execution_count": 9,
      "outputs": [
        {
          "output_type": "stream",
          "text": [
            "0 25.35384836574371\n",
            "10000 13.221359103656914\n",
            "20000 13.081134263067497\n",
            "30000 13.014640193835556\n",
            "40000 12.973865355050382\n",
            "50000 12.94649115786904\n",
            "60000 12.927355931205357\n",
            "70000 12.913695028422708\n",
            "80000 12.903826691572265\n",
            "90000 12.896645729387775\n"
          ],
          "name": "stdout"
        }
      ]
    },
    {
      "cell_type": "markdown",
      "metadata": {
        "id": "QYU1UXiF7F4-",
        "colab_type": "text"
      },
      "source": [
        "Finally, we can print out our ranking:"
      ]
    },
    {
      "cell_type": "code",
      "metadata": {
        "id": "3PSNeDpCloxb",
        "colab_type": "code",
        "colab": {
          "base_uri": "https://localhost:8080/",
          "height": 493
        },
        "outputId": "6f75028e-0179-4ac4-9ee7-d01aaa00f041"
      },
      "source": [
        "team_rank = []\n",
        "for index, power in enumerate(team_power):\n",
        "  if power !=0 and team_list[index]!='home_field':\n",
        "      team_rank.append([team_list[index],float(power)])\n",
        "  elif power !=0: print(team_list[index],float(power))\n",
        "\n",
        "team_rank=sorted(team_rank, key=lambda team_rank:team_rank[1],reverse=True)\n",
        "for index, team in enumerate(team_rank):\n",
        "  print(index, team[0], team[1])\n",
        "  if index > 25: break"
      ],
      "execution_count": 10,
      "outputs": [
        {
          "output_type": "stream",
          "text": [
            "home_field 2.1904032230377197\n",
            "0 Ohio St 89.30817413330078\n",
            "1 LSU 82.3166732788086\n",
            "2 Clemson 80.26665496826172\n",
            "3 Alabama 77.13928985595703\n",
            "4 Wisconsin 74.32945251464844\n",
            "5 Penn St 71.96751403808594\n",
            "6 Oregon 71.77298736572266\n",
            "7 Georgia 70.91683959960938\n",
            "8 Auburn 70.3792495727539\n",
            "9 Florida 69.5384292602539\n",
            "10 Oklahoma 69.3042221069336\n",
            "11 Notre Dame 68.09016418457031\n",
            "12 Michigan 68.07286071777344\n",
            "13 Utah 66.71409606933594\n",
            "14 Baylor 64.8388442993164\n",
            "15 Iowa 64.39042663574219\n",
            "16 Texas 63.63643264770508\n",
            "17 Washington 63.49116897583008\n",
            "18 Minnesota 62.31975173950195\n",
            "19 UCF 61.15861892700195\n",
            "20 Memphis 60.67900085449219\n",
            "21 Iowa St 60.4447135925293\n",
            "22 Texas A&M 60.196258544921875\n",
            "23 Navy 59.87948226928711\n",
            "24 Kansas St 59.258384704589844\n",
            "25 Oklahoma St 58.992679595947266\n",
            "26 USC 57.404109954833984\n"
          ],
          "name": "stdout"
        }
      ]
    }
  ]
}