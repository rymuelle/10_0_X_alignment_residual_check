{
  "nbformat": 4,
  "nbformat_minor": 0,
  "metadata": {
    "colab": {
      "name": "simpleCFBMinimizer.ipynb",
      "provenance": [],
      "collapsed_sections": [],
      "authorship_tag": "ABX9TyO65H+Tb5ldO9crSyCVIiRz",
      "include_colab_link": true
    },
    "kernelspec": {
      "name": "python3",
      "display_name": "Python 3"
    },
    "accelerator": "GPU"
  },
  "cells": [
    {
      "cell_type": "markdown",
      "metadata": {
        "id": "view-in-github",
        "colab_type": "text"
      },
      "source": [
        "<a href=\"https://colab.research.google.com/github/rymuelle/10_0_X_alignment_residual_check/blob/master/simpleCFBMinimizer.ipynb\" target=\"_parent\"><img src=\"https://colab.research.google.com/assets/colab-badge.svg\" alt=\"Open In Colab\"/></a>"
      ]
    },
    {
      "cell_type": "code",
      "metadata": {
        "id": "OOQdMGvLVrMa",
        "colab_type": "code",
        "colab": {}
      },
      "source": [
        "import numpy as np\n",
        "import torch\n",
        "import pandas as pd\n",
        "from google.colab import files, drive\n",
        "import os\n",
        "import math\n",
        "import matplotlib.pyplot as plt"
      ],
      "execution_count": 0,
      "outputs": []
    },
    {
      "cell_type": "code",
      "metadata": {
        "id": "wQ2c6CAQaTQb",
        "colab_type": "code",
        "colab": {}
      },
      "source": [
        "dtype = torch.float\n",
        "device = torch.device(\"cpu\")\n",
        "device = torch.device(\"cuda:0\")"
      ],
      "execution_count": 0,
      "outputs": []
    },
    {
      "cell_type": "markdown",
      "metadata": {
        "id": "vt9T2AZzWLaK",
        "colab_type": "text"
      },
      "source": [
        "Mount drive and get our game CSV:"
      ]
    },
    {
      "cell_type": "code",
      "metadata": {
        "id": "UUOl38ynVzB-",
        "colab_type": "code",
        "outputId": "caeca4c5-641a-417d-815b-46bcec32f35b",
        "colab": {
          "base_uri": "https://localhost:8080/",
          "height": 122
        }
      },
      "source": [
        "drive.mount('/content/drive')"
      ],
      "execution_count": 3,
      "outputs": [
        {
          "output_type": "stream",
          "text": [
            "Go to this URL in a browser: https://accounts.google.com/o/oauth2/auth?client_id=947318989803-6bn6qk8qdgf4n4g3pfee6491hc0brc4i.apps.googleusercontent.com&redirect_uri=urn%3aietf%3awg%3aoauth%3a2.0%3aoob&response_type=code&scope=email%20https%3a%2f%2fwww.googleapis.com%2fauth%2fdocs.test%20https%3a%2f%2fwww.googleapis.com%2fauth%2fdrive%20https%3a%2f%2fwww.googleapis.com%2fauth%2fdrive.photos.readonly%20https%3a%2f%2fwww.googleapis.com%2fauth%2fpeopleapi.readonly\n",
            "\n",
            "Enter your authorization code:\n",
            "··········\n",
            "Mounted at /content/drive\n"
          ],
          "name": "stdout"
        }
      ]
    },
    {
      "cell_type": "code",
      "metadata": {
        "id": "YAC_Xwv9VXTB",
        "colab_type": "code",
        "outputId": "8c8e9261-664f-44ee-e822-62c3a16a65d7",
        "colab": {
          "base_uri": "https://localhost:8080/",
          "height": 204
        }
      },
      "source": [
        "game_history=pd.read_csv('/content/drive/My Drive/Colab Notebooks/CFB_pytorch_toy_minimizer/game_history.csv')\n",
        "game_history_2019=game_history[game_history.season.fillna(0).astype(int)==2019]\n",
        "game_history_2019.head()"
      ],
      "execution_count": 4,
      "outputs": [
        {
          "output_type": "execute_result",
          "data": {
            "text/html": [
              "<div>\n",
              "<style scoped>\n",
              "    .dataframe tbody tr th:only-of-type {\n",
              "        vertical-align: middle;\n",
              "    }\n",
              "\n",
              "    .dataframe tbody tr th {\n",
              "        vertical-align: top;\n",
              "    }\n",
              "\n",
              "    .dataframe thead th {\n",
              "        text-align: right;\n",
              "    }\n",
              "</style>\n",
              "<table border=\"1\" class=\"dataframe\">\n",
              "  <thead>\n",
              "    <tr style=\"text-align: right;\">\n",
              "      <th></th>\n",
              "      <th>team1</th>\n",
              "      <th>team2</th>\n",
              "      <th>team1Home</th>\n",
              "      <th>score1</th>\n",
              "      <th>score2</th>\n",
              "      <th>ordinal_date</th>\n",
              "      <th>season</th>\n",
              "    </tr>\n",
              "  </thead>\n",
              "  <tbody>\n",
              "    <tr>\n",
              "      <th>98528</th>\n",
              "      <td>St Mary's NS</td>\n",
              "      <td>St Fran Xavier</td>\n",
              "      <td>-1</td>\n",
              "      <td>39</td>\n",
              "      <td>7.0</td>\n",
              "      <td>737288.0</td>\n",
              "      <td>2019.0</td>\n",
              "    </tr>\n",
              "    <tr>\n",
              "      <th>98529</th>\n",
              "      <td>Acadia</td>\n",
              "      <td>Mt Allison</td>\n",
              "      <td>-1</td>\n",
              "      <td>13</td>\n",
              "      <td>29.0</td>\n",
              "      <td>737288.0</td>\n",
              "      <td>2019.0</td>\n",
              "    </tr>\n",
              "    <tr>\n",
              "      <th>98530</th>\n",
              "      <td>Manitoba</td>\n",
              "      <td>Regina</td>\n",
              "      <td>-1</td>\n",
              "      <td>12</td>\n",
              "      <td>9.0</td>\n",
              "      <td>737292.0</td>\n",
              "      <td>2019.0</td>\n",
              "    </tr>\n",
              "    <tr>\n",
              "      <th>98531</th>\n",
              "      <td>Coffeyville CC</td>\n",
              "      <td>Iowa Western CC</td>\n",
              "      <td>-1</td>\n",
              "      <td>14</td>\n",
              "      <td>36.0</td>\n",
              "      <td>737293.0</td>\n",
              "      <td>2019.0</td>\n",
              "    </tr>\n",
              "    <tr>\n",
              "      <th>98532</th>\n",
              "      <td>Hutchinson CC</td>\n",
              "      <td>Ellsworth CC</td>\n",
              "      <td>-1</td>\n",
              "      <td>41</td>\n",
              "      <td>16.0</td>\n",
              "      <td>737293.0</td>\n",
              "      <td>2019.0</td>\n",
              "    </tr>\n",
              "  </tbody>\n",
              "</table>\n",
              "</div>"
            ],
            "text/plain": [
              "                team1            team2  team1Home  ...  score2  ordinal_date  season\n",
              "98528    St Mary's NS   St Fran Xavier         -1  ...     7.0      737288.0  2019.0\n",
              "98529          Acadia       Mt Allison         -1  ...    29.0      737288.0  2019.0\n",
              "98530        Manitoba           Regina         -1  ...     9.0      737292.0  2019.0\n",
              "98531  Coffeyville CC  Iowa Western CC         -1  ...    36.0      737293.0  2019.0\n",
              "98532   Hutchinson CC     Ellsworth CC         -1  ...    16.0      737293.0  2019.0\n",
              "\n",
              "[5 rows x 7 columns]"
            ]
          },
          "metadata": {
            "tags": []
          },
          "execution_count": 4
        }
      ]
    },
    {
      "cell_type": "code",
      "metadata": {
        "id": "gjJiuPdqlTeS",
        "colab_type": "code",
        "outputId": "83ec8b0e-215e-402e-8a2b-3108254fe7f2",
        "colab": {
          "base_uri": "https://localhost:8080/",
          "height": 333
        }
      },
      "source": [
        "plt.hist(game_history_2019.ordinal_date, 10)"
      ],
      "execution_count": 5,
      "outputs": [
        {
          "output_type": "execute_result",
          "data": {
            "text/plain": [
              "(array([206., 836., 819., 796., 867., 814., 586., 134.,  27.,  20.]),\n",
              " array([737288. , 737302.9, 737317.8, 737332.7, 737347.6, 737362.5,\n",
              "        737377.4, 737392.3, 737407.2, 737422.1, 737437. ]),\n",
              " <a list of 10 Patch objects>)"
            ]
          },
          "metadata": {
            "tags": []
          },
          "execution_count": 5
        },
        {
          "output_type": "display_data",
          "data": {
            "image/png": "[encoded data removed]",
            "text/plain": [
              "<Figure size 432x288 with 1 Axes>"
            ]
          },
          "metadata": {
            "tags": [],
            "needs_background": "light"
          }
        }
      ]
    },
    {
      "cell_type": "markdown",
      "metadata": {
        "id": "FxKG1bxLZhpI",
        "colab_type": "text"
      },
      "source": [
        "Now, build list and dict of teams. Dict converts between index and name, list stores team power"
      ]
    },
    {
      "cell_type": "code",
      "metadata": {
        "id": "WEAHCoe-W3qU",
        "colab_type": "code",
        "colab": {}
      },
      "source": [
        "team_list=pd.concat([game_history_2019.team1,game_history_2019.team2]).unique()\n",
        "team_list=np.append(team_list,'home_field')\n",
        "team_dict={team:count for count,team in enumerate(team_list)}"
      ],
      "execution_count": 0,
      "outputs": []
    },
    {
      "cell_type": "markdown",
      "metadata": {
        "id": "hvpJAXhPoTxo",
        "colab_type": "text"
      },
      "source": [
        "We've added a cutoff here for some rough testing:"
      ]
    },
    {
      "cell_type": "code",
      "metadata": {
        "id": "wWnqUrHpXfCt",
        "colab_type": "code",
        "colab": {}
      },
      "source": [
        "count=0\n",
        "lengthX=len(team_list)\n",
        "game_array=[]\n",
        "spread_array=[]\n",
        "game_array_test=[]\n",
        "spread_array_test=[]\n",
        "cutoff=1000000\n",
        "for index, row in game_history_2019.iterrows():\n",
        "  game=np.zeros(lengthX)\n",
        "  game[team_dict[row.team1]]=1\n",
        "  game[team_dict[row.team2]]=-1\n",
        "  game[lengthX-1]=row.team1Home\n",
        "  spread = row.score1-row.score2\n",
        "  if not math.isnan(spread):\n",
        "    if row.ordinal_date<cutoff: \n",
        "      game_array.append(game)\n",
        "      spread_array.append(spread)\n",
        "    else:\n",
        "      game_array_test.append(game)\n",
        "      spread_array_test.append(spread)\n",
        "  else:\n",
        "    print(spread)\n",
        "  #if count > 1000: break\n",
        "  count+=1"
      ],
      "execution_count": 0,
      "outputs": []
    },
    {
      "cell_type": "markdown",
      "metadata": {
        "id": "zBKHKC61k73E",
        "colab_type": "text"
      },
      "source": [
        "Our \"network\" is litterally one node. Team1 power - Team2 power + homefield advantage = predicted score.\n",
        "\n",
        "Weights here will reflect team power and home field advantage."
      ]
    },
    {
      "cell_type": "code",
      "metadata": {
        "id": "Js4yOOuziRdw",
        "colab_type": "code",
        "outputId": "e097fc20-4f68-4c2c-858e-c237fcab7fd2",
        "colab": {
          "base_uri": "https://localhost:8080/",
          "height": 68
        }
      },
      "source": [
        "team_power=torch.zeros(len(team_list),1, device=device, dtype=dtype, requires_grad=True)\n",
        "x=torch.tensor(game_array, device=device, dtype=dtype)\n",
        "y=torch.tensor(spread_array, device=device, dtype=dtype).unsqueeze(1)\n",
        "print(x.shape)\n",
        "print(team_power.shape)\n",
        "print(y.shape)"
      ],
      "execution_count": 132,
      "outputs": [
        {
          "output_type": "stream",
          "text": [
            "torch.Size([5105, 928])\n",
            "torch.Size([928, 1])\n",
            "torch.Size([5105, 1])\n"
          ],
          "name": "stdout"
        }
      ]
    },
    {
      "cell_type": "markdown",
      "metadata": {
        "id": "PxWsNY20la6Q",
        "colab_type": "text"
      },
      "source": [
        "Now, lets optimize team's power:"
      ]
    },
    {
      "cell_type": "code",
      "metadata": {
        "id": "6EAI0jr_lZaW",
        "colab_type": "code",
        "outputId": "4878a748-8fbe-4f6c-a5f4-b3dde79cc4fc",
        "colab": {
          "base_uri": "https://localhost:8080/",
          "height": 187
        }
      },
      "source": [
        "learning_rate = 1e-3\n",
        "nGames=len(x)\n",
        "optimizer = torch.optim.Adam([team_power], lr=learning_rate)\n",
        "for t in range(100000):\n",
        "  pred_spread=x.mm(team_power)\n",
        "  loss=(pred_spread - y).pow(2).sum()\n",
        "  optimizer.zero_grad()\n",
        "  loss.backward()\n",
        "  optimizer.step()\n",
        "  loss=math.sqrt(loss.item()/(nGames))\n",
        "  if t%10000==0:print(t,loss)\n",
        "\n"
      ],
      "execution_count": 134,
      "outputs": [
        {
          "output_type": "stream",
          "text": [
            "0 12.876836898146577\n",
            "10000 12.876836898146577\n",
            "20000 12.876835947377403\n",
            "30000 12.876836898146577\n",
            "40000 12.876836898146577\n",
            "50000 12.876836898146577\n",
            "60000 12.876836898146577\n",
            "70000 12.876836898146577\n",
            "80000 12.876836898146577\n",
            "90000 12.876836898146577\n"
          ],
          "name": "stdout"
        }
      ]
    },
    {
      "cell_type": "markdown",
      "metadata": {
        "id": "122dgoYIoaUR",
        "colab_type": "text"
      },
      "source": [
        "This tests the absolute error. Note that games at the end of the year acually systematically can have higher varience."
      ]
    },
    {
      "cell_type": "code",
      "metadata": {
        "id": "XOLpG2pJnnF1",
        "colab_type": "code",
        "outputId": "5bf36b9d-1d0b-4607-a3d2-3865ddc5b156",
        "colab": {
          "base_uri": "https://localhost:8080/",
          "height": 286
        }
      },
      "source": [
        "x=torch.tensor(game_array_test, device=device, dtype=dtype)\n",
        "y=torch.tensor(spread_array_test, device=device, dtype=dtype).unsqueeze(1)\n",
        "print(x.shape)\n",
        "print(y.shape)\n",
        "pred_spread=x.mm(team_power)\n",
        "loss = math.sqrt((pred_spread - y).pow(2).mean())\n",
        "loss"
      ],
      "execution_count": 135,
      "outputs": [
        {
          "output_type": "stream",
          "text": [
            "torch.Size([0])\n",
            "torch.Size([0, 1])\n"
          ],
          "name": "stdout"
        },
        {
          "output_type": "error",
          "ename": "RuntimeError",
          "evalue": "ignored",
          "traceback": [
            "\u001b[0;31m---------------------------------------------------------------------------\u001b[0m",
            "\u001b[0;31mRuntimeError\u001b[0m                              Traceback (most recent call last)",
            "\u001b[0;32m<ipython-input-135-b1fa1dc0bce4>\u001b[0m in \u001b[0;36m<module>\u001b[0;34m()\u001b[0m\n\u001b[1;32m      3\u001b[0m \u001b[0mprint\u001b[0m\u001b[0;34m(\u001b[0m\u001b[0mx\u001b[0m\u001b[0;34m.\u001b[0m\u001b[0mshape\u001b[0m\u001b[0;34m)\u001b[0m\u001b[0;34m\u001b[0m\u001b[0;34m\u001b[0m\u001b[0m\n\u001b[1;32m      4\u001b[0m \u001b[0mprint\u001b[0m\u001b[0;34m(\u001b[0m\u001b[0my\u001b[0m\u001b[0;34m.\u001b[0m\u001b[0mshape\u001b[0m\u001b[0;34m)\u001b[0m\u001b[0;34m\u001b[0m\u001b[0;34m\u001b[0m\u001b[0m\n\u001b[0;32m----> 5\u001b[0;31m \u001b[0mpred_spread\u001b[0m\u001b[0;34m=\u001b[0m\u001b[0mx\u001b[0m\u001b[0;34m.\u001b[0m\u001b[0mmm\u001b[0m\u001b[0;34m(\u001b[0m\u001b[0mteam_power\u001b[0m\u001b[0;34m)\u001b[0m\u001b[0;34m\u001b[0m\u001b[0;34m\u001b[0m\u001b[0m\n\u001b[0m\u001b[1;32m      6\u001b[0m \u001b[0mloss\u001b[0m \u001b[0;34m=\u001b[0m \u001b[0mmath\u001b[0m\u001b[0;34m.\u001b[0m\u001b[0msqrt\u001b[0m\u001b[0;34m(\u001b[0m\u001b[0;34m(\u001b[0m\u001b[0mpred_spread\u001b[0m \u001b[0;34m-\u001b[0m \u001b[0my\u001b[0m\u001b[0;34m)\u001b[0m\u001b[0;34m.\u001b[0m\u001b[0mpow\u001b[0m\u001b[0;34m(\u001b[0m\u001b[0;36m2\u001b[0m\u001b[0;34m)\u001b[0m\u001b[0;34m.\u001b[0m\u001b[0mmean\u001b[0m\u001b[0;34m(\u001b[0m\u001b[0;34m)\u001b[0m\u001b[0;34m)\u001b[0m\u001b[0;34m\u001b[0m\u001b[0;34m\u001b[0m\u001b[0m\n\u001b[1;32m      7\u001b[0m \u001b[0mloss\u001b[0m\u001b[0;34m\u001b[0m\u001b[0;34m\u001b[0m\u001b[0m\n",
            "\u001b[0;31mRuntimeError\u001b[0m: 2D tensors expected, got 1D, 2D tensors at /pytorch/aten/src/THC/generic/THCTensorMathBlas.cu:275"
          ]
        }
      ]
    },
    {
      "cell_type": "markdown",
      "metadata": {
        "id": "QYU1UXiF7F4-",
        "colab_type": "text"
      },
      "source": [
        "Finally, we can print out our ranking:"
      ]
    },
    {
      "cell_type": "code",
      "metadata": {
        "id": "3PSNeDpCloxb",
        "colab_type": "code",
        "outputId": "f8449528-d730-4b2a-f5fc-ad7df6411c00",
        "colab": {
          "base_uri": "https://localhost:8080/",
          "height": 918
        }
      },
      "source": [
        "team_rank = []\n",
        "for index, power in enumerate(team_power):\n",
        "  if power !=0 and team_list[index]!='home_field':\n",
        "      team_rank.append([team_list[index],float(power)])\n",
        "  elif power !=0: print(team_list[index],float(power))\n",
        "\n",
        "team_rank=sorted(team_rank, key=lambda team_rank:team_rank[1],reverse=True)\n",
        "for index, team in enumerate(team_rank):\n",
        "  print(index, \"\\t\", team[0], \"\\t\", team[1])\n",
        "  if index > 50: break"
      ],
      "execution_count": 136,
      "outputs": [
        {
          "output_type": "stream",
          "text": [
            "home_field 2.144301652908325\n",
            "0 \t Ohio St \t 93.69886016845703\n",
            "1 \t LSU \t 86.57974243164062\n",
            "2 \t Clemson \t 84.55506134033203\n",
            "3 \t Alabama \t 81.43444061279297\n",
            "4 \t Wisconsin \t 78.7233657836914\n",
            "5 \t Penn St \t 76.31605529785156\n",
            "6 \t Oregon \t 76.10124969482422\n",
            "7 \t Georgia \t 75.17232513427734\n",
            "8 \t Auburn \t 74.66708374023438\n",
            "9 \t Florida \t 73.78801727294922\n",
            "10 \t Oklahoma \t 73.58370971679688\n",
            "11 \t Michigan \t 72.46391296386719\n",
            "12 \t Notre Dame \t 72.4177017211914\n",
            "13 \t Utah \t 71.03396606445312\n",
            "14 \t Baylor \t 69.10269927978516\n",
            "15 \t Iowa \t 68.78921508789062\n",
            "16 \t Texas \t 67.9488296508789\n",
            "17 \t Washington \t 67.8031997680664\n",
            "18 \t Minnesota \t 66.66615295410156\n",
            "19 \t UCF \t 65.44548034667969\n",
            "20 \t Memphis \t 64.95755767822266\n",
            "21 \t Iowa St \t 64.7294692993164\n",
            "22 \t Texas A&M \t 64.43923950195312\n",
            "23 \t Navy \t 64.12771606445312\n",
            "24 \t Kansas St \t 63.52592086791992\n",
            "25 \t Oklahoma St \t 63.258148193359375\n",
            "26 \t USC \t 61.76239776611328\n",
            "27 \t Appalachian St \t 60.930267333984375\n",
            "28 \t Cincinnati \t 60.76499557495117\n",
            "29 \t TCU \t 60.349891662597656\n",
            "30 \t North Carolina \t 59.29789733886719\n",
            "31 \t Boise St \t 59.29133224487305\n",
            "32 \t Louisiana \t 59.12028503417969\n",
            "33 \t Indiana \t 58.996463775634766\n",
            "34 \t Washington St \t 58.98634338378906\n",
            "35 \t Kentucky \t 58.77415084838867\n",
            "36 \t Michigan St \t 58.618587493896484\n",
            "37 \t Air Force \t 58.594539642333984\n",
            "38 \t SMU \t 57.888614654541016\n",
            "39 \t Arizona St \t 57.753963470458984\n",
            "40 \t FL Atlantic \t 57.45603942871094\n",
            "41 \t Mississippi St \t 57.311153411865234\n",
            "42 \t Mississippi \t 57.19877243041992\n",
            "43 \t Virginia \t 56.886505126953125\n",
            "44 \t Missouri \t 56.79273223876953\n",
            "45 \t Nebraska \t 56.776275634765625\n",
            "46 \t Tennessee \t 56.199581146240234\n",
            "47 \t South Carolina \t 56.04129409790039\n",
            "48 \t Tulane \t 55.83721923828125\n",
            "49 \t Texas Tech \t 55.5748176574707\n",
            "50 \t California \t 55.31666564941406\n",
            "51 \t Oregon St \t 54.73549270629883\n"
          ],
          "name": "stdout"
        }
      ]
    },
    {
      "cell_type": "code",
      "metadata": {
        "id": "WP49vwbq-x5I",
        "colab_type": "code",
        "colab": {}
      },
      "source": [
        ""
      ],
      "execution_count": 0,
      "outputs": []
    }
  ]
}