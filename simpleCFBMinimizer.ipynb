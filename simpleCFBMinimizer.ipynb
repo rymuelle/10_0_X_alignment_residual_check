{
  "nbformat": 4,
  "nbformat_minor": 0,
  "metadata": {
    "colab": {
      "name": "simpleCFBMinimizer.ipynb",
      "provenance": [],
      "collapsed_sections": [],
      "authorship_tag": "ABX9TyMhcugcpQZ6sU8J9zeD20gA",
      "include_colab_link": true
    },
    "kernelspec": {
      "name": "python3",
      "display_name": "Python 3"
    },
    "accelerator": "GPU"
  },
  "cells": [
    {
      "cell_type": "markdown",
      "metadata": {
        "id": "view-in-github",
        "colab_type": "text"
      },
      "source": [
        "<a href=\"https://colab.research.google.com/github/rymuelle/10_0_X_alignment_residual_check/blob/master/simpleCFBMinimizer.ipynb\" target=\"_parent\"><img src=\"https://colab.research.google.com/assets/colab-badge.svg\" alt=\"Open In Colab\"/></a>"
      ]
    },
    {
      "cell_type": "code",
      "metadata": {
        "id": "OOQdMGvLVrMa",
        "colab_type": "code",
        "colab": {}
      },
      "source": [
        "import numpy as np\n",
        "import torch\n",
        "import pandas as pd\n",
        "from google.colab import files, drive\n",
        "import os\n",
        "import math"
      ],
      "execution_count": 0,
      "outputs": []
    },
    {
      "cell_type": "code",
      "metadata": {
        "id": "wQ2c6CAQaTQb",
        "colab_type": "code",
        "colab": {}
      },
      "source": [
        "dtype = torch.float\n",
        "device = torch.device(\"cpu\")\n",
        "device = torch.device(\"cuda:0\")"
      ],
      "execution_count": 0,
      "outputs": []
    },
    {
      "cell_type": "markdown",
      "metadata": {
        "id": "vt9T2AZzWLaK",
        "colab_type": "text"
      },
      "source": [
        "Mount drive and get our game CSV:"
      ]
    },
    {
      "cell_type": "code",
      "metadata": {
        "id": "UUOl38ynVzB-",
        "colab_type": "code",
        "outputId": "354792b1-fb79-4523-bad4-56ecdfc73b2b",
        "colab": {
          "base_uri": "https://localhost:8080/",
          "height": 122
        }
      },
      "source": [
        "drive.mount('/content/drive')"
      ],
      "execution_count": 3,
      "outputs": [
        {
          "output_type": "stream",
          "text": [
            "Go to this URL in a browser: https://accounts.google.com/o/oauth2/auth?client_id=947318989803-6bn6qk8qdgf4n4g3pfee6491hc0brc4i.apps.googleusercontent.com&redirect_uri=urn%3aietf%3awg%3aoauth%3a2.0%3aoob&response_type=code&scope=email%20https%3a%2f%2fwww.googleapis.com%2fauth%2fdocs.test%20https%3a%2f%2fwww.googleapis.com%2fauth%2fdrive%20https%3a%2f%2fwww.googleapis.com%2fauth%2fdrive.photos.readonly%20https%3a%2f%2fwww.googleapis.com%2fauth%2fpeopleapi.readonly\n",
            "\n",
            "Enter your authorization code:\n",
            "··········\n",
            "Mounted at /content/drive\n"
          ],
          "name": "stdout"
        }
      ]
    },
    {
      "cell_type": "code",
      "metadata": {
        "id": "YAC_Xwv9VXTB",
        "colab_type": "code",
        "outputId": "904b4d1a-4423-469d-8c91-80e145a4d355",
        "colab": {
          "base_uri": "https://localhost:8080/",
          "height": 204
        }
      },
      "source": [
        "game_history=pd.read_csv('/content/drive/My Drive/Colab Notebooks/CFB_pytorch_toy_minimizer/game_history.csv')\n",
        "game_history_2019=game_history[game_history.season.fillna(0).astype(int)==2019]\n",
        "game_history_2019.head()"
      ],
      "execution_count": 4,
      "outputs": [
        {
          "output_type": "execute_result",
          "data": {
            "text/html": [
              "<div>\n",
              "<style scoped>\n",
              "    .dataframe tbody tr th:only-of-type {\n",
              "        vertical-align: middle;\n",
              "    }\n",
              "\n",
              "    .dataframe tbody tr th {\n",
              "        vertical-align: top;\n",
              "    }\n",
              "\n",
              "    .dataframe thead th {\n",
              "        text-align: right;\n",
              "    }\n",
              "</style>\n",
              "<table border=\"1\" class=\"dataframe\">\n",
              "  <thead>\n",
              "    <tr style=\"text-align: right;\">\n",
              "      <th></th>\n",
              "      <th>team1</th>\n",
              "      <th>team2</th>\n",
              "      <th>team1Home</th>\n",
              "      <th>score1</th>\n",
              "      <th>score2</th>\n",
              "      <th>ordinal_date</th>\n",
              "      <th>season</th>\n",
              "    </tr>\n",
              "  </thead>\n",
              "  <tbody>\n",
              "    <tr>\n",
              "      <th>98528</th>\n",
              "      <td>St Mary's NS</td>\n",
              "      <td>St Fran Xavier</td>\n",
              "      <td>-1</td>\n",
              "      <td>39</td>\n",
              "      <td>7.0</td>\n",
              "      <td>737288.0</td>\n",
              "      <td>2019.0</td>\n",
              "    </tr>\n",
              "    <tr>\n",
              "      <th>98529</th>\n",
              "      <td>Acadia</td>\n",
              "      <td>Mt Allison</td>\n",
              "      <td>-1</td>\n",
              "      <td>13</td>\n",
              "      <td>29.0</td>\n",
              "      <td>737288.0</td>\n",
              "      <td>2019.0</td>\n",
              "    </tr>\n",
              "    <tr>\n",
              "      <th>98530</th>\n",
              "      <td>Manitoba</td>\n",
              "      <td>Regina</td>\n",
              "      <td>-1</td>\n",
              "      <td>12</td>\n",
              "      <td>9.0</td>\n",
              "      <td>737292.0</td>\n",
              "      <td>2019.0</td>\n",
              "    </tr>\n",
              "    <tr>\n",
              "      <th>98531</th>\n",
              "      <td>Coffeyville CC</td>\n",
              "      <td>Iowa Western CC</td>\n",
              "      <td>-1</td>\n",
              "      <td>14</td>\n",
              "      <td>36.0</td>\n",
              "      <td>737293.0</td>\n",
              "      <td>2019.0</td>\n",
              "    </tr>\n",
              "    <tr>\n",
              "      <th>98532</th>\n",
              "      <td>Hutchinson CC</td>\n",
              "      <td>Ellsworth CC</td>\n",
              "      <td>-1</td>\n",
              "      <td>41</td>\n",
              "      <td>16.0</td>\n",
              "      <td>737293.0</td>\n",
              "      <td>2019.0</td>\n",
              "    </tr>\n",
              "  </tbody>\n",
              "</table>\n",
              "</div>"
            ],
            "text/plain": [
              "                team1            team2  team1Home  ...  score2  ordinal_date  season\n",
              "98528    St Mary's NS   St Fran Xavier         -1  ...     7.0      737288.0  2019.0\n",
              "98529          Acadia       Mt Allison         -1  ...    29.0      737288.0  2019.0\n",
              "98530        Manitoba           Regina         -1  ...     9.0      737292.0  2019.0\n",
              "98531  Coffeyville CC  Iowa Western CC         -1  ...    36.0      737293.0  2019.0\n",
              "98532   Hutchinson CC     Ellsworth CC         -1  ...    16.0      737293.0  2019.0\n",
              "\n",
              "[5 rows x 7 columns]"
            ]
          },
          "metadata": {
            "tags": []
          },
          "execution_count": 4
        }
      ]
    },
    {
      "cell_type": "markdown",
      "metadata": {
        "id": "FxKG1bxLZhpI",
        "colab_type": "text"
      },
      "source": [
        "Now, build list and dict of teams. Dict converts between index and name, list stores team power"
      ]
    },
    {
      "cell_type": "code",
      "metadata": {
        "id": "WEAHCoe-W3qU",
        "colab_type": "code",
        "colab": {}
      },
      "source": [
        "team_list=pd.concat([game_history_2019.team1,game_history_2019.team2]).unique()\n",
        "team_list=np.append(team_list,'home_field')\n",
        "team_dict={team:count for count,team in enumerate(team_list)}"
      ],
      "execution_count": 0,
      "outputs": []
    },
    {
      "cell_type": "code",
      "metadata": {
        "id": "wWnqUrHpXfCt",
        "colab_type": "code",
        "colab": {}
      },
      "source": [
        "count=0\n",
        "lengthX=len(team_list)\n",
        "game_array=[]\n",
        "spread_array=[]\n",
        "for index, row in game_history_2019.iterrows():\n",
        "  game=np.zeros(lengthX)\n",
        "  game[team_dict[row.team1]]=1\n",
        "  game[team_dict[row.team2]]=-1\n",
        "  game[lengthX-1]=row.team1Home\n",
        "  spread = row.score1-row.score2\n",
        "  if not math.isnan(spread): \n",
        "    game_array.append(game)\n",
        "    spread_array.append(row.score1-row.score2)\n",
        "  else:\n",
        "    print(spread)\n",
        "  #if count > 1000: break\n",
        "  count+=1"
      ],
      "execution_count": 0,
      "outputs": []
    },
    {
      "cell_type": "markdown",
      "metadata": {
        "id": "zBKHKC61k73E",
        "colab_type": "text"
      },
      "source": [
        "Our \"network\" is litterally one node. Team1 power - Team2 power + homefield advantage = predicted score.\n",
        "\n",
        "Weights here will reflect team power and home field advantage."
      ]
    },
    {
      "cell_type": "code",
      "metadata": {
        "id": "Js4yOOuziRdw",
        "colab_type": "code",
        "outputId": "281d2909-c49c-4b6b-96df-c96a4b95d114",
        "colab": {
          "base_uri": "https://localhost:8080/",
          "height": 68
        }
      },
      "source": [
        "team_power=torch.zeros(len(team_list),1, device=device, dtype=dtype, requires_grad=True)\n",
        "x=torch.tensor(game_array, device=device, dtype=dtype)\n",
        "y=torch.tensor(spread_array, device=device, dtype=dtype).unsqueeze(1)\n",
        "print(x.shape)\n",
        "print(team_power.shape)\n",
        "print(y.shape)"
      ],
      "execution_count": 7,
      "outputs": [
        {
          "output_type": "stream",
          "text": [
            "torch.Size([5105, 928])\n",
            "torch.Size([928, 1])\n",
            "torch.Size([5105, 1])\n"
          ],
          "name": "stdout"
        }
      ]
    },
    {
      "cell_type": "markdown",
      "metadata": {
        "id": "PxWsNY20la6Q",
        "colab_type": "text"
      },
      "source": [
        "Now, lets optimize team's power:"
      ]
    },
    {
      "cell_type": "code",
      "metadata": {
        "id": "6EAI0jr_lZaW",
        "colab_type": "code",
        "outputId": "d07cf623-1701-4dd5-c839-62f1a8d1423b",
        "colab": {
          "base_uri": "https://localhost:8080/",
          "height": 187
        }
      },
      "source": [
        "learning_rate = 1e-4\n",
        "nGames=len(x)\n",
        "for t in range(100000):\n",
        "  pred_spread=x.mm(team_power)\n",
        "  loss = (pred_spread - y).pow(2).sum()\n",
        "  loss.backward()\n",
        "  with torch.no_grad():\n",
        "    team_power-=learning_rate*team_power.grad\n",
        "    team_power.grad.zero_()\n",
        "  loss=math.sqrt(loss.item()/(nGames))\n",
        "  if t%10000==0:print(t,loss)"
      ],
      "execution_count": 8,
      "outputs": [
        {
          "output_type": "stream",
          "text": [
            "0 25.353848421388236\n",
            "10000 13.22135900678474\n",
            "20000 13.081134313450903\n",
            "30000 13.014639914564622\n",
            "40000 12.973865276604155\n",
            "50000 12.946491059517346\n",
            "60000 12.927355797447905\n",
            "70000 12.913694907369727\n",
            "80000 12.90382661964933\n",
            "90000 12.896645673880094\n"
          ],
          "name": "stdout"
        }
      ]
    },
    {
      "cell_type": "markdown",
      "metadata": {
        "id": "QYU1UXiF7F4-",
        "colab_type": "text"
      },
      "source": [
        "Finally, we can print out our ranking:"
      ]
    },
    {
      "cell_type": "code",
      "metadata": {
        "id": "3PSNeDpCloxb",
        "colab_type": "code",
        "colab": {
          "base_uri": "https://localhost:8080/",
          "height": 918
        },
        "outputId": "cba3cd8f-4726-4660-c27b-a73a5601b10c"
      },
      "source": [
        "team_rank = []\n",
        "for index, power in enumerate(team_power):\n",
        "  if power !=0 and team_list[index]!='home_field':\n",
        "      team_rank.append([team_list[index],float(power)])\n",
        "  elif power !=0: print(team_list[index],float(power))\n",
        "\n",
        "team_rank=sorted(team_rank, key=lambda team_rank:team_rank[1],reverse=True)\n",
        "for index, team in enumerate(team_rank):\n",
        "  print(index, \"\\t\", team[0], \"\\t\", team[1])\n",
        "  if index > 50: break"
      ],
      "execution_count": 9,
      "outputs": [
        {
          "output_type": "stream",
          "text": [
            "home_field 2.1904032230377197\n",
            "0 \t Ohio St \t 89.30817413330078\n",
            "1 \t LSU \t 82.3166732788086\n",
            "2 \t Clemson \t 80.26665496826172\n",
            "3 \t Alabama \t 77.13928985595703\n",
            "4 \t Wisconsin \t 74.32945251464844\n",
            "5 \t Penn St \t 71.96751403808594\n",
            "6 \t Oregon \t 71.77298736572266\n",
            "7 \t Georgia \t 70.91683959960938\n",
            "8 \t Auburn \t 70.3792495727539\n",
            "9 \t Florida \t 69.5384292602539\n",
            "10 \t Oklahoma \t 69.3042221069336\n",
            "11 \t Notre Dame \t 68.09016418457031\n",
            "12 \t Michigan \t 68.07286071777344\n",
            "13 \t Utah \t 66.71409606933594\n",
            "14 \t Baylor \t 64.8388442993164\n",
            "15 \t Iowa \t 64.39042663574219\n",
            "16 \t Texas \t 63.63643264770508\n",
            "17 \t Washington \t 63.49116897583008\n",
            "18 \t Minnesota \t 62.31975173950195\n",
            "19 \t UCF \t 61.15861892700195\n",
            "20 \t Memphis \t 60.67900085449219\n",
            "21 \t Iowa St \t 60.4447135925293\n",
            "22 \t Texas A&M \t 60.196258544921875\n",
            "23 \t Navy \t 59.87948226928711\n",
            "24 \t Kansas St \t 59.258384704589844\n",
            "25 \t Oklahoma St \t 58.992679595947266\n",
            "26 \t USC \t 57.404109954833984\n",
            "27 \t Appalachian St \t 56.662986755371094\n",
            "28 \t Cincinnati \t 56.448692321777344\n",
            "29 \t TCU \t 56.095088958740234\n",
            "30 \t Boise St \t 55.040283203125\n",
            "31 \t North Carolina \t 55.018672943115234\n",
            "32 \t Louisiana \t 54.879058837890625\n",
            "33 \t Washington St \t 54.67976760864258\n",
            "34 \t Indiana \t 54.64727020263672\n",
            "35 \t Kentucky \t 54.503578186035156\n",
            "36 \t Air Force \t 54.36454772949219\n",
            "37 \t Michigan St \t 54.22787094116211\n",
            "38 \t SMU \t 53.5957145690918\n",
            "39 \t Arizona St \t 53.446773529052734\n",
            "40 \t FL Atlantic \t 53.196571350097656\n",
            "41 \t Mississippi St \t 53.0622444152832\n",
            "42 \t Mississippi \t 52.93142318725586\n",
            "43 \t Virginia \t 52.611045837402344\n",
            "44 \t Missouri \t 52.52674102783203\n",
            "45 \t Nebraska \t 52.3753662109375\n",
            "46 \t Tennessee \t 51.90424346923828\n",
            "47 \t South Carolina \t 51.77168655395508\n",
            "48 \t Tulane \t 51.57003402709961\n",
            "49 \t Texas Tech \t 51.303810119628906\n",
            "50 \t California \t 51.01008987426758\n",
            "51 \t Oregon St \t 50.43478775024414\n"
          ],
          "name": "stdout"
        }
      ]
    },
    {
      "cell_type": "code",
      "metadata": {
        "id": "WP49vwbq-x5I",
        "colab_type": "code",
        "colab": {}
      },
      "source": [
        ""
      ],
      "execution_count": 0,
      "outputs": []
    }
  ]
}